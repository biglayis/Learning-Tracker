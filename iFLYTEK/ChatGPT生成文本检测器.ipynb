{
 "cells": [
  {
   "cell_type": "markdown",
   "id": "acb873b0",
   "metadata": {},
   "source": [
    "# 赛事背景\n",
    "近年来人工智能在自然语言处理领域取得了巨大的进展。其中一项引人注目的技术是生成模型，如OpenAI的GPT-3.5。这类模型通过学习大量的文本数据，具备了生成高质量文本的能力，从而引发了一系列关于文本生成真实性的讨论。 \n",
    "\n",
    "正因为生成模型的迅猛发展，也引发了一个新的挑战，即如何区分人类编写的文本与机器生成的文本。传统上，我们借助语法错误、逻辑不连贯等特征来辨别机器生成的文本，但随着生成模型的不断改进，这些特征变得越来越难以区分。因此，为了解决这一问题，研究人员开始探索使用NLP文本分类技术来区分人类编写的文本和机器生成的文本。"
   ]
  },
  {
   "cell_type": "markdown",
   "id": "12c5c28f",
   "metadata": {},
   "source": [
    "# 数据说明\n",
    "数据集为中文作文样本，其中从互联网上采集得到了真实作文，并且ChatGLM-6B生成了部分作文。参赛选手的任务是根据文本内容，区分作文的来源。  \n",
    "\n",
    "本次竞赛的评价标准采用准确率 accuracy_score 指标，最高分为1。"
   ]
  },
  {
   "cell_type": "markdown",
   "id": "f439834d",
   "metadata": {},
   "source": [
    "# 任务一：报名比赛，下载比赛数据集并完成读取\n",
    "<img src=\"img/报名.png\">"
   ]
  },
  {
   "cell_type": "code",
   "execution_count": 1,
   "id": "6e288338",
   "metadata": {},
   "outputs": [
    {
     "data": {
      "text/html": [
       "<div>\n",
       "<style scoped>\n",
       "    .dataframe tbody tr th:only-of-type {\n",
       "        vertical-align: middle;\n",
       "    }\n",
       "\n",
       "    .dataframe tbody tr th {\n",
       "        vertical-align: top;\n",
       "    }\n",
       "\n",
       "    .dataframe thead th {\n",
       "        text-align: right;\n",
       "    }\n",
       "</style>\n",
       "<table border=\"1\" class=\"dataframe\">\n",
       "  <thead>\n",
       "    <tr style=\"text-align: right;\">\n",
       "      <th></th>\n",
       "      <th>name</th>\n",
       "      <th>label</th>\n",
       "      <th>content</th>\n",
       "    </tr>\n",
       "  </thead>\n",
       "  <tbody>\n",
       "    <tr>\n",
       "      <th>0</th>\n",
       "      <td>1</td>\n",
       "      <td>0</td>\n",
       "      <td>[4509 3181 1253 2278  290 3562 2051  599 3125 ...</td>\n",
       "    </tr>\n",
       "    <tr>\n",
       "      <th>1</th>\n",
       "      <td>2</td>\n",
       "      <td>1</td>\n",
       "      <td>[ 263 1325 2563 4160 2196  169 3125 2563 2619 ...</td>\n",
       "    </tr>\n",
       "    <tr>\n",
       "      <th>2</th>\n",
       "      <td>3</td>\n",
       "      <td>0</td>\n",
       "      <td>[3635  177 3125 1251 3839 5212 2109 1171 1194 ...</td>\n",
       "    </tr>\n",
       "    <tr>\n",
       "      <th>3</th>\n",
       "      <td>4</td>\n",
       "      <td>1</td>\n",
       "      <td>[3037  266  246 3547 1253 2278 3125  649  697 ...</td>\n",
       "    </tr>\n",
       "    <tr>\n",
       "      <th>4</th>\n",
       "      <td>5</td>\n",
       "      <td>0</td>\n",
       "      <td>[ 177 3125 1547 4060 5212 4687 5164 3125 3974 ...</td>\n",
       "    </tr>\n",
       "  </tbody>\n",
       "</table>\n",
       "</div>"
      ],
      "text/plain": [
       "   name  label                                            content\n",
       "0     1      0  [4509 3181 1253 2278  290 3562 2051  599 3125 ...\n",
       "1     2      1  [ 263 1325 2563 4160 2196  169 3125 2563 2619 ...\n",
       "2     3      0  [3635  177 3125 1251 3839 5212 2109 1171 1194 ...\n",
       "3     4      1  [3037  266  246 3547 1253 2278 3125  649  697 ...\n",
       "4     5      0  [ 177 3125 1547 4060 5212 4687 5164 3125 3974 ..."
      ]
     },
     "execution_count": 1,
     "metadata": {},
     "output_type": "execute_result"
    }
   ],
   "source": [
    "import pandas as pd\n",
    "\n",
    "train_data = pd.read_csv(\"data/train.csv\")\n",
    "test_data = pd.read_csv(\"data/test.csv\")\n",
    "train_data.head()"
   ]
  },
  {
   "cell_type": "markdown",
   "id": "7e75ef80",
   "metadata": {},
   "source": [
    "数据集包含三列：name、label和content。  \n",
    "\n",
    "* name：数据的索引或编号。\n",
    "* label：文本的标签，表示文本原始是否来自ChatGPT/ChatGLM。0表示人类编写的文本，1表示机器生成的文本。\n",
    "* content：文本经过匿名编码后的结果，按照字符进行编码。"
   ]
  },
  {
   "cell_type": "markdown",
   "id": "9a0f4b2a",
   "metadata": {},
   "source": [
    "# 任务二：对数据集字符进行可视化，统计标签和字符分布"
   ]
  },
  {
   "cell_type": "code",
   "execution_count": 2,
   "id": "96c86cbf",
   "metadata": {},
   "outputs": [],
   "source": [
    "# 对输入的内容进行处理\n",
    "train_data['content'] = train_data['content'].apply(lambda x: x[1:-1].strip().replace('\\n', ' \\n '))\n",
    "test_data['content'] = test_data['content'].apply(lambda x: x[1:-1].strip().replace('\\n', ' \\n '))\n",
    "\n",
    "train_data['content'] = train_data['content'].apply(lambda x: x.split())\n",
    "test_data['content'] = test_data['content'].apply(lambda x: x.split())"
   ]
  },
  {
   "cell_type": "code",
   "execution_count": 3,
   "id": "62df7b14",
   "metadata": {},
   "outputs": [
    {
     "data": {
      "text/plain": [
       "[('5212', 173863),\n",
       " ('3125', 116815),\n",
       " ('1759', 72557),\n",
       " ('123', 69893),\n",
       " ('0', 61434),\n",
       " ('139', 58299),\n",
       " ('205', 43617),\n",
       " ('2113', 35667),\n",
       " ('998', 28072),\n",
       " ('148', 24948)]"
      ]
     },
     "execution_count": 3,
     "metadata": {},
     "output_type": "execute_result"
    }
   ],
   "source": [
    "# 统计字符出现的频次并输出前10个最常见的字符\n",
    "from collections import Counter\n",
    "\n",
    "c = Counter()\n",
    "for content in train_data['content']:\n",
    "    c.update(content)\n",
    "c.most_common(10)"
   ]
  },
  {
   "cell_type": "code",
   "execution_count": 4,
   "id": "a5ff50fc",
   "metadata": {},
   "outputs": [
    {
     "data": {
      "image/png": "[encoded data removed]",
      "text/plain": [
       "<Figure size 640x480 with 1 Axes>"
      ]
     },
     "metadata": {},
     "output_type": "display_data"
    }
   ],
   "source": [
    "# 对数据集的字符进行可视化展示。\n",
    "import matplotlib.pyplot as plt\n",
    "\n",
    "counts = pd.DataFrame(c.most_common(10),columns=[\"word\",\"num\"])\n",
    "counts = counts.sort_values(by=\"num\",ascending=False)\n",
    "counts.plot.bar(x=\"word\",y=\"num\")\n",
    "plt.show()"
   ]
  },
  {
   "cell_type": "markdown",
   "id": "9ae8c38b",
   "metadata": {},
   "source": [
    "# 任务三：使用TFIDF提取文本特征"
   ]
  },
  {
   "cell_type": "markdown",
   "id": "d5109cec",
   "metadata": {},
   "source": [
    "## TF-IDF模型介绍"
   ]
  },
  {
   "cell_type": "markdown",
   "id": "cad12c0c",
   "metadata": {},
   "source": [
    "TF-IDF是一种统计方法，用以评估某一字词对于一个文件集或一个语料库的重要程度。字词的重要性随着它在文件中出现的次数成正比增加，但同时会随着它在语料库中出现的频率成反比下降。  \n",
    "\n",
    "TF-IDF的主要思想是，如果某个词或短语在一篇文章中出现的频率TF(Term Frequency，词频)，词频高，并且在其他文章中很少出现，则认为此词或者短语具有很好的类别区分能力，适合用来分类。  \n",
    "\n",
    "TF（Term Frequency）指的是词频，表示一个词在文档中出现的频率。IDF（inverse document frequency，逆向文件频率）是文档集合中的文档总数除以包含该词的文档数的对数。计算公式为：$IDF = \\log(\\frac{N}{DF + 1})$。其中，N表示文档集合中的文档总数，DF表示包含某个词的文档数。公式中的 \"+1\" 是为了避免分母为零的情况。取对数用于平滑计算结果，并且能够将IDF值映射到一个更合适的范围内，以便更好地与其他特征进行比较和组合。  \n",
    "\n",
    "当一个词在更多的文档中出现时，它的IDF值趋近于0，表示这个词在文档集合中的重要性较低。相反，当一个词在较少的文档中出现时，它的IDF值较高，表示这个词在文档集合中的重要性较高。 \n",
    "\n",
    "TF-IDF实际上是：$TF \\times IDF$。得分越高表示词在文档中越重要。  \n",
    "\n",
    "TF-IDF模型仅考虑了词频和逆文档频率，没有考虑词的顺序和语义信息。因此，在某些情况下，它可能无法捕捉到文本的完整语义信息。"
   ]
  },
  {
   "cell_type": "markdown",
   "id": "3f49d4b8",
   "metadata": {},
   "source": [
    "## 提取文本特征"
   ]
  },
  {
   "cell_type": "markdown",
   "id": "554a774f",
   "metadata": {},
   "source": [
    "TfidfVectorizer是scikit-learn库中的一个文本特征提取工具，用于将文本数据转换为TF-IDF特征表示。下面是对TfidfVectorizer函数的功能和常用超参数的介绍：  \n",
    "\n",
    "* ngram_range：可以指定要考虑的词组的长度范围，如(1, 1)表示只考虑单个词，(1, 2)表示同时考虑单个词和相邻的词对。\n",
    "* max_features：可以限制提取的特征数量，只保留最重要的特征。\n",
    "* max_df：单词的最大文档频率，超过该频率的单词将被忽略，默认为1.0，表示不忽略任何单词。\n",
    "* min_df：单词的最小文档频率，低于该频率的单词将被忽略，默认为1，表示不忽略任何单词。\n",
    "* stop_words：可以指定一个停用词列表，用于过滤掉常见的无意义词语，如\"a\"、\"the\"等。\n",
    "* vocabulary：可以指定自定义的词汇表，用于控制所考虑的词语。\n",
    "* sublinear_tf：子线性TF缩放。通过将sublinear_tf设置为True，可以使用子线性缩放来平衡长文本和短文本的特征权重，从而提高模型对不同长度文本的适应性。\n",
    "* norm：特征向量的归一化方式。通过调整norm参数，可以选择不同的归一化方式，如'l2'、'l1'或'none'，以适应不同的数据分布。\n",
    "* smooth_idf：控制IDF平滑的方式，设置为True表示使用平滑，避免除零错误。"
   ]
  },
  {
   "cell_type": "code",
   "execution_count": 5,
   "id": "77f77126",
   "metadata": {},
   "outputs": [],
   "source": [
    "from sklearn.feature_extraction.text import TfidfVectorizer\n",
    "\n",
    "tfidf = TfidfVectorizer()\n",
    "train_tfidf_feat = tfidf.fit_transform(train_data['content'].apply(lambda x: ' '.join(x)))\n",
    "test_tfidf_feat = tfidf.transform(test_data['content'].apply(lambda x: ' '.join(x)))"
   ]
  },
  {
   "cell_type": "code",
   "execution_count": 6,
   "id": "0bb6b05b",
   "metadata": {},
   "outputs": [
    {
     "name": "stdout",
     "output_type": "stream",
     "text": [
      "[[0.         0.05019706 0.         ... 0.         0.07660908 0.        ]\n",
      " [0.         0.         0.         ... 0.         0.05343725 0.        ]\n",
      " [0.         0.02602664 0.         ... 0.         0.039721   0.        ]\n",
      " ...\n",
      " [0.         0.         0.         ... 0.         0.01761612 0.        ]\n",
      " [0.         0.05004152 0.         ... 0.         0.07637172 0.        ]\n",
      " [0.         0.02263174 0.         ... 0.         0.05180972 0.        ]]\n"
     ]
    }
   ],
   "source": [
    "print(train_tfidf_feat.toarray())"
   ]
  },
  {
   "cell_type": "code",
   "execution_count": 7,
   "id": "7e438be0",
   "metadata": {},
   "outputs": [],
   "source": [
    "tfidf = TfidfVectorizer(ngram_range=(1,2), max_features=10000)\n",
    "train_tfidf_feat = tfidf.fit_transform(train_data['content'].apply(lambda x: ' '.join(x)))\n",
    "test_tfidf_feat = tfidf.transform(test_data['content'].apply(lambda x: ' '.join(x)))"
   ]
  },
  {
   "cell_type": "code",
   "execution_count": 8,
   "id": "e5235bf5",
   "metadata": {},
   "outputs": [
    {
     "name": "stdout",
     "output_type": "stream",
     "text": [
      "[[0.03910991 0.07374304 0.         ... 0.         0.         0.        ]\n",
      " [0.         0.         0.         ... 0.         0.         0.        ]\n",
      " [0.01894004 0.         0.         ... 0.         0.         0.        ]\n",
      " ...\n",
      " [0.         0.         0.         ... 0.         0.         0.        ]\n",
      " [0.03226617 0.         0.         ... 0.         0.         0.        ]\n",
      " [0.0148205  0.         0.         ... 0.         0.         0.        ]]\n"
     ]
    }
   ],
   "source": [
    "print(train_tfidf_feat.toarray())"
   ]
  },
  {
   "cell_type": "markdown",
   "id": "64880647",
   "metadata": {},
   "source": [
    "# 任务四：使用TFIDF特征和线性模型完成训练和预测"
   ]
  },
  {
   "cell_type": "code",
   "execution_count": 9,
   "id": "746c0805",
   "metadata": {},
   "outputs": [
    {
     "name": "stdout",
     "output_type": "stream",
     "text": [
      "              precision    recall  f1-score   support\n",
      "\n",
      "           0      0.981     1.000     0.990      9479\n",
      "           1      0.999     0.895     0.944      1721\n",
      "\n",
      "    accuracy                          0.984     11200\n",
      "   macro avg      0.990     0.947     0.967     11200\n",
      "weighted avg      0.984     0.984     0.983     11200\n",
      "\n"
     ]
    }
   ],
   "source": [
    "from sklearn.model_selection import cross_val_predict,train_test_split\n",
    "from sklearn.linear_model import LogisticRegression\n",
    "from sklearn.metrics import classification_report\n",
    "\n",
    "# 划分训练集和验证集\n",
    "X_train, X_val, y_train, y_val = train_test_split(train_tfidf_feat, train_data['label'], test_size=0.2, random_state=42)\n",
    "\n",
    "# 逻辑回归模型\n",
    "lr = LogisticRegression()\n",
    "\n",
    "# 使用cross_val_predict()函数进行交叉验证\n",
    "val_pred = cross_val_predict(\n",
    "    lr,\n",
    "    X_train,\n",
    "    y_train,\n",
    "    cv=5\n",
    ")\n",
    "\n",
    "# 模型在训练集上的性能\n",
    "print(classification_report(y_train, val_pred, digits=3))"
   ]
  },
  {
   "cell_type": "code",
   "execution_count": 10,
   "id": "62d167bd",
   "metadata": {},
   "outputs": [
    {
     "name": "stdout",
     "output_type": "stream",
     "text": [
      "              precision    recall  f1-score   support\n",
      "\n",
      "           0      0.978     1.000     0.989      2357\n",
      "           1      1.000     0.883     0.938       443\n",
      "\n",
      "    accuracy                          0.981      2800\n",
      "   macro avg      0.989     0.941     0.963      2800\n",
      "weighted avg      0.982     0.981     0.981      2800\n",
      "\n"
     ]
    }
   ],
   "source": [
    "# 训练模型\n",
    "lr.fit(X_train,y_train)\n",
    "y_pred_val = lr.predict(X_val)\n",
    "\n",
    "# 模型在验证集上的性能\n",
    "print(classification_report(y_val, y_pred_val,digits=3))"
   ]
  },
  {
   "cell_type": "code",
   "execution_count": 11,
   "id": "9daea953",
   "metadata": {},
   "outputs": [],
   "source": [
    "# 生成测试集结果\n",
    "lr.fit(train_tfidf_feat, train_data['label'])\n",
    "test_pred = lr.predict(test_tfidf_feat)\n",
    "test_data['label'] = test_pred\n",
    "test_data[['name', 'label']].to_csv('data/lr.csv', index=None)"
   ]
  },
  {
   "cell_type": "markdown",
   "id": "767a4e17",
   "metadata": {},
   "source": [
    "<img src=\"img/lr.png\">"
   ]
  },
  {
   "cell_type": "markdown",
   "id": "bd3a595b",
   "metadata": {},
   "source": [
    "# 任务五：使用TFIDF特征和XGBoost完成训练和预测"
   ]
  },
  {
   "cell_type": "code",
   "execution_count": 12,
   "id": "73da8c44",
   "metadata": {},
   "outputs": [
    {
     "name": "stdout",
     "output_type": "stream",
     "text": [
      "              precision    recall  f1-score   support\n",
      "\n",
      "           0      0.990     0.997     0.993      9479\n",
      "           1      0.981     0.944     0.962      1721\n",
      "\n",
      "    accuracy                          0.989     11200\n",
      "   macro avg      0.986     0.970     0.978     11200\n",
      "weighted avg      0.989     0.989     0.988     11200\n",
      "\n"
     ]
    }
   ],
   "source": [
    "from xgboost import XGBClassifier\n",
    "\n",
    "tfidf = TfidfVectorizer(ngram_range=(1,3), max_features=10000)\n",
    "tfidf.fit(train_data['content'].apply(lambda x: ' '.join(x)))\n",
    "train_tfidf_feat = tfidf.transform(train_data['content'].apply(lambda x: ' '.join(x)))\n",
    "test_tfidf_feat = tfidf.transform(test_data['content'].apply(lambda x: ' '.join(x)))\n",
    "\n",
    "# 划分训练集和验证集\n",
    "X_train, X_val, y_train, y_val = train_test_split(train_tfidf_feat, train_data['label'], test_size=0.2, random_state=42)\n",
    "\n",
    "# 创建模型\n",
    "xgb = XGBClassifier(n_estimators=50)\n",
    "\n",
    "# 交叉验证\n",
    "val_pred = cross_val_predict(\n",
    "    xgb,\n",
    "    X_train,\n",
    "    y_train,\n",
    "    cv = 5\n",
    ")\n",
    "\n",
    "# 模型在训练集上的性能\n",
    "print(classification_report(y_train, val_pred, digits=3))"
   ]
  },
  {
   "cell_type": "code",
   "execution_count": 13,
   "id": "2c73b151",
   "metadata": {},
   "outputs": [
    {
     "name": "stdout",
     "output_type": "stream",
     "text": [
      "              precision    recall  f1-score   support\n",
      "\n",
      "           0      0.841     0.995     0.912      2357\n",
      "           1      0.077     0.002     0.004       443\n",
      "\n",
      "    accuracy                          0.838      2800\n",
      "   macro avg      0.459     0.499     0.458      2800\n",
      "weighted avg      0.720     0.838     0.768      2800\n",
      "\n"
     ]
    }
   ],
   "source": [
    "# 训练模型\n",
    "xgb.fit(X_train,y_train)\n",
    "y_pred_val = lr.predict(X_val)\n",
    "\n",
    "# 模型在验证集上的性能\n",
    "print(classification_report(y_val, y_pred_val,digits=3))"
   ]
  },
  {
   "cell_type": "code",
   "execution_count": 14,
   "id": "d9562af5",
   "metadata": {},
   "outputs": [],
   "source": [
    "# 生成测试集结果\n",
    "xgb.fit(train_tfidf_feat, train_data['label'])\n",
    "test_pred = xgb.predict(test_tfidf_feat)\n",
    "test_data['label'] = test_pred\n",
    "test_data[['name', 'label']].to_csv('data/xgb.csv', index=None)"
   ]
  },
  {
   "cell_type": "markdown",
   "id": "a4d480c5",
   "metadata": {},
   "source": [
    "<img src=\"img/xgb.png\">"
   ]
  },
  {
   "cell_type": "markdown",
   "id": "64252b6b",
   "metadata": {},
   "source": [
    "# 任务六：学会训练Word2Vec词向量"
   ]
  },
  {
   "cell_type": "markdown",
   "id": "721320ef",
   "metadata": {},
   "source": [
    "## Word2Vec词向量模型介绍"
   ]
  },
  {
   "cell_type": "markdown",
   "id": "f3202ddc",
   "metadata": {},
   "source": [
    "Word2Vec是一种用于将文本中的单词表示为向量的机器学习模型。它包含两个模型，连续词袋（Continuous Bag of Words，简称CBOW）和跳字模型（Skip-gram）。这两种方法都是基于神经网络的训练模型。CBOW模型可以根据上下文单词来预测当前单词，跳字模型可以根据当前单词来预测上下文单词。  \n",
    "\n",
    "word2vec将字词转换成向量形式，可以把对文本内容的处理简化为向量空间中的向量运算，计算出向量空间上的相似度，来表示文本语义上的相似度。它计算的是余弦值，距离范围为0–1之间，值越大代表两个词越相似。"
   ]
  },
  {
   "cell_type": "markdown",
   "id": "e3173638-33d7-4d8f-8c10-205d7f736e7f",
   "metadata": {},
   "source": [
    "## 使用Word2Vec类"
   ]
  },
  {
   "cell_type": "markdown",
   "id": "72d8e568-9c1d-42a7-9773-f12b4a68f4c1",
   "metadata": {},
   "source": [
    "**Word2Vec()**\n",
    "* sentences: 输入的训练数据，可以是一个可迭代对象，每个元素是一个句子的单词列表。也可以通过corpus_file参数指定从文件中读取训练数据。\n",
    "* vector_size: 生成的词向量的维度，默认为100。\n",
    "* alpha: 学习率（初始学习率），用于控制训练过程中的学习速度，默认为0.025。\n",
    "* window: 上下文窗口大小，表示当前单词与目标单词之间的最大距离，默认为5。\n",
    "* min_count: 单词的最低频次阈值，低于该频次的单词将被忽略，默认为5。\n",
    "* sg: 选择训练算法，0表示CBOW，1表示Skip-gram，默认为0。\n",
    "* hs: 选择层次softmax训练算法，0表示负采样，1表示层次softmax，默认为0。\n",
    "* negative: 如果使用负采样，指定生成负样本的数量，默认为5。\n",
    "* workers：一个用于训练并行化的参数，可以加快训练速度，默认为3.\n",
    "* epochs: 训练迭代次数，默认为5。"
   ]
  },
  {
   "cell_type": "code",
   "execution_count": 49,
   "id": "6fdcb795",
   "metadata": {},
   "outputs": [
    {
     "name": "stdout",
     "output_type": "stream",
     "text": [
      "Word2Vec<vocab=4914, vector_size=100, alpha=0.025>\n"
     ]
    }
   ],
   "source": [
    "from gensim.models import Word2Vec\n",
    "\n",
    "# 创建Word2Vec模型\n",
    "model = Word2Vec(sentences=list(train_data['content']), vector_size=100, window=5, min_count=1, workers=4)\n",
    "print(model)"
   ]
  },
  {
   "cell_type": "code",
   "execution_count": 50,
   "id": "bb191aea-0373-458d-92b2-28ec16a3842b",
   "metadata": {},
   "outputs": [
    {
     "data": {
      "text/plain": [
       "array([-0.43731368, -0.01557103, -1.1169655 ,  0.38070336, -0.866342  ,\n",
       "        1.1366763 ,  1.6273082 , -0.30970496,  0.15261187, -0.28252137,\n",
       "       -1.899728  ,  0.74838614, -0.23713487, -0.45594892, -0.5663476 ,\n",
       "        0.21906477,  0.39660767,  1.7780344 ,  0.6653069 ,  0.04034795,\n",
       "        0.29974264, -2.662975  ,  0.8533107 ,  1.7924706 , -0.7434167 ,\n",
       "       -1.4550394 ,  0.1037167 , -1.2934539 , -1.5472313 ,  0.01657655,\n",
       "        1.1610568 , -1.7037338 ,  0.3350013 , -0.9269314 ,  1.9165641 ,\n",
       "       -1.5024201 ,  0.10790921,  0.2993678 , -1.4763    ,  1.5369719 ,\n",
       "        1.0640609 , -0.560476  , -1.1750845 ,  0.8878865 ,  0.86859906,\n",
       "       -1.276011  ,  1.1003003 ,  0.4173871 , -0.6910702 , -1.1921325 ,\n",
       "       -1.5250986 ,  0.02588342,  0.83173174, -0.04457463,  0.41301095,\n",
       "       -1.5562114 , -2.0595477 , -0.7391433 ,  0.8313659 , -0.98364526,\n",
       "        0.1720823 , -0.399128  ,  0.7176993 ,  0.6142262 , -1.6582322 ,\n",
       "       -0.42309308,  0.38311931, -0.63009644, -1.0117877 ,  0.360814  ,\n",
       "       -0.0110259 , -1.3457825 , -0.6701588 ,  1.1564829 ,  0.47320348,\n",
       "        1.4888961 , -0.34149313,  1.6198758 ,  1.1483155 , -0.13464087,\n",
       "       -0.02732961, -1.6297281 ,  1.3240663 , -0.49141118, -0.57334876,\n",
       "       -0.9223068 , -0.43949804,  0.3484479 , -1.910846  , -0.08734416,\n",
       "        0.03652934, -1.6378286 ,  0.5226033 ,  0.02161969, -1.099175  ,\n",
       "        0.3787113 , -0.31927246,  1.7239941 ,  0.8200569 ,  0.8778858 ],\n",
       "      dtype=float32)"
      ]
     },
     "execution_count": 50,
     "metadata": {},
     "output_type": "execute_result"
    }
   ],
   "source": [
    "# 获取单词的向量表示\n",
    "model.wv['0']"
   ]
  },
  {
   "cell_type": "code",
   "execution_count": 23,
   "id": "24c29fa1",
   "metadata": {},
   "outputs": [
    {
     "data": {
      "text/plain": [
       "[('14', 0.9448967576026917),\n",
       " ('67', 0.8672031760215759),\n",
       " ('82', 0.8661262392997742),\n",
       " ('81', 0.8648353815078735),\n",
       " ('87', 0.8641952872276306),\n",
       " ('63', 0.8625372052192688),\n",
       " ('77', 0.861719012260437),\n",
       " ('75', 0.8561267256736755),\n",
       " ('70', 0.8434911370277405),\n",
       " ('80', 0.8260563015937805)]"
      ]
     },
     "execution_count": 23,
     "metadata": {},
     "output_type": "execute_result"
    }
   ],
   "source": [
    "# 查找与给定单词最相似的单词\n",
    "model.wv.most_similar('1', topn=10)"
   ]
  },
  {
   "cell_type": "code",
   "execution_count": 24,
   "id": "14d073a1-799e-45ee-979e-3b05e2259448",
   "metadata": {},
   "outputs": [
    {
     "data": {
      "text/plain": [
       "0.30987188"
      ]
     },
     "execution_count": 24,
     "metadata": {},
     "output_type": "execute_result"
    }
   ],
   "source": [
    "# 计算两个单词之间的相似度\n",
    "model.wv.similarity('0', '1')"
   ]
  },
  {
   "cell_type": "code",
   "execution_count": 51,
   "id": "56b1507c-f306-4d07-829f-25b13a6ed4c0",
   "metadata": {},
   "outputs": [
    {
     "data": {
      "text/plain": [
       "(4914, 100)"
      ]
     },
     "execution_count": 51,
     "metadata": {},
     "output_type": "execute_result"
    }
   ],
   "source": [
    "# 词向量矩阵的维度\n",
    "model.wv.vectors.shape"
   ]
  },
  {
   "cell_type": "code",
   "execution_count": 53,
   "id": "c5b1568c-f642-456b-835a-2791409b3d39",
   "metadata": {},
   "outputs": [
    {
     "data": {
      "text/plain": [
       "'14'"
      ]
     },
     "execution_count": 53,
     "metadata": {},
     "output_type": "execute_result"
    }
   ],
   "source": [
    "# 找出这些词中与其他词汇差异最大的词\n",
    "model.wv.doesnt_match(['14','67','1','70','77','75','80','81'])"
   ]
  },
  {
   "cell_type": "markdown",
   "id": "06b39d41",
   "metadata": {},
   "source": [
    "# 任务七：使用Word2Vec词向量，搭建TextCNN模型进行训练和预测"
   ]
  },
  {
   "cell_type": "markdown",
   "id": "5a6dbc22-0b09-41c2-ae82-30e3b7f973ee",
   "metadata": {},
   "source": [
    "## 使用Word2Vec获得训练数据"
   ]
  },
  {
   "cell_type": "markdown",
   "id": "6e71daa2-98f6-429f-bd82-09b66727e393",
   "metadata": {},
   "source": [
    "**build_vocab()**\n",
    "* sentences：输入的训练数据，可以是一个可迭代对象，每个元素是一个句子的单词列表。\n",
    "* update：是否更新已有的词汇表，默认为False。如果设置为True，则会在现有的词汇表基础上更新新的词汇。\n",
    "* progress_per：用于显示进度的参数，表示多少个句子显示一次进度。默认为10000。\n",
    "* keep_raw_vocab：是否保留原始词汇表，默认为False。如果设置为True，则在构建新的词汇表时保留原始词汇的信息。\n",
    "* trim_rule：用于修剪词汇表的规则。如果指定了修剪规则函数，则会在构建词汇表后应用该函数进行修剪。"
   ]
  },
  {
   "cell_type": "markdown",
   "id": "ecc946a5-2c70-4dae-80a2-952f8b2def1f",
   "metadata": {},
   "source": [
    "**train()**\n",
    "* sentences: 输入的训练数据，与构造函数中的sentences参数相同。\n",
    "* total_examples: 训练样本的总数，用于学习率调整，默认为None，如果提供了该参数，则不需要提供epochs参数。\n",
    "* epochs: 训练迭代次数，用于学习率调整，默认为None，如果提供了该参数，则不需要提供total_examples参数。\n",
    "* start_alpha: 初始学习率，如果没有指定，则使用构造函数中的alpha参数。\n",
    "* end_alpha: 最终学习率，如果没有指定，则使用构造函数中的min_alpha参数。"
   ]
  },
  {
   "cell_type": "code",
   "execution_count": 72,
   "id": "5125f3be-249e-48de-88f4-688a3d1c9e6a",
   "metadata": {},
   "outputs": [],
   "source": [
    "sentences=list(train_data['content'])\n",
    "# 创建Word2Vec模型\n",
    "model = Word2Vec(vector_size=100, window=8, min_count=1, workers=4, epochs=20)\n",
    "# 构建词汇表\n",
    "model.build_vocab(sentences)\n",
    "# 训练模型\n",
    "model.train(sentences, total_examples=model.corpus_count,epochs=model.epochs,end_alpha=0.01)\n",
    "# 得到训练数据\n",
    "train_data_wv = model.wv"
   ]
  },
  {
   "cell_type": "code",
   "execution_count": 73,
   "id": "3fa2a2e4-10f7-4c59-bfbc-247f6a190264",
   "metadata": {},
   "outputs": [
    {
     "data": {
      "text/plain": [
       "array([[-0.80623174,  0.12166563, -0.99643224, ..., -0.2187935 ,\n",
       "         0.669113  , -0.19976653],\n",
       "       [-0.7008419 ,  0.6971608 ,  0.6098954 , ...,  0.2660851 ,\n",
       "        -0.22692603, -0.41258377],\n",
       "       [ 0.96653616, -0.95108795, -1.193532  , ..., -0.12667349,\n",
       "         0.47273108, -0.31615722],\n",
       "       ...,\n",
       "       [-0.09011073, -0.1225181 ,  0.00354682, ..., -0.01854029,\n",
       "        -0.03406965, -0.29819834],\n",
       "       [-0.05112632,  0.04503568,  0.04370062, ...,  0.03290649,\n",
       "        -0.01098526, -0.30140993],\n",
       "       [ 0.01712559,  0.04288544, -0.16115916, ..., -0.04906145,\n",
       "         0.01299014, -0.15191647]], dtype=float32)"
      ]
     },
     "execution_count": 73,
     "metadata": {},
     "output_type": "execute_result"
    }
   ],
   "source": [
    "train_data_wv.vectors"
   ]
  },
  {
   "cell_type": "markdown",
   "id": "baff97cf-901e-4f01-a771-997fbbf55699",
   "metadata": {},
   "source": [
    "## TextCNN模型介绍"
   ]
  },
  {
   "cell_type": "markdown",
   "id": "aa4c45be-d9d9-4f13-8882-b00c163157db",
   "metadata": {},
   "source": [
    "TextCNN（Text Convolutional Neural Network）是一种用于文本分类的卷积神经网络模型。它的核心思想是通过卷积操作和池化操作来捕捉文本中的局部特征，从而对文本进行分类。TextCNN模型的基本结构和运行过程：\n",
    "* 输入层：将文本表示为一个矩阵，每一行表示一个词或字符的词向量。\n",
    "* 卷积层：TextCNN模型通常使用多个不同大小的卷积核对输入矩阵进行卷积操作。每个卷积核的目的是捕捉不同大小的局部特征。例如，对于英文文本，一个卷积核可能关注一对相邻的词语，而另一个卷积核可能关注更大范围的词语。通过卷积操作，可以得到一系列特征图（feature maps）。\n",
    "* 池化层：对于每个特征图，使用最大池化（Max pooling）操作或平均池化（Average pooling）操作来降低维度。池化操作能够提取特征图中最显著的特征，并保留最重要的信息。\n",
    "* 全连接层：将池化层的输出连接到一个或多个全连接层，用于学习文本的高级表示和进行分类任务。通常还会使用激活函数（如ReLU）来引入非线性。\n",
    "* 输出层：最后一层是一个softmax层，将全连接层的输出映射到不同类别的概率分布。模型通过训练数据进行优化，使得在给定文本输入时，能够预测正确的分类标签。"
   ]
  },
  {
   "cell_type": "code",
   "execution_count": 76,
   "id": "fdba67c8-6c84-45ec-b3c0-48536258f88f",
   "metadata": {},
   "outputs": [],
   "source": [
    "# 下面是让chatgpt写的\n",
    "import numpy as np\n",
    "import torch\n",
    "import torch.nn as nn\n",
    "import torch.optim as optim\n",
    "from torch.utils.data import DataLoader, TensorDataset\n",
    "\n",
    "# 构建词向量矩阵\n",
    "embedding_matrix = np.zeros((len(train_data_wv) + 1, train_data_wv.vector_size))\n",
    "for i, word in enumerate(train_data_wv.index_to_key):\n",
    "    embedding_vector = train_data_wv[word]\n",
    "    embedding_matrix[i + 1] = embedding_vector\n",
    "    \n",
    "# 将文本转换为词索引序列\n",
    "max_seq_length = max(len(sentence) for sentence in sentences)\n",
    "indexed_sentences = []\n",
    "for sentence in sentences:\n",
    "    indexed_sentence = [train_data_wv.key_to_index[word] + 1 for word in sentence]\n",
    "    indexed_sentence += [0] * (max_seq_length - len(sentence))  # 使用0填充到相同长度\n",
    "    indexed_sentences.append(indexed_sentence)\n",
    "\n",
    "# 转换为PyTorch的Tensor类型\n",
    "x_train = torch.tensor(indexed_sentences, dtype=torch.long)\n",
    "y_train = torch.tensor(train_data['label'], dtype=torch.float)\n",
    "\n",
    "# 构建数据集和数据加载器\n",
    "dataset = TensorDataset(x_train, y_train)\n",
    "dataloader = DataLoader(dataset, batch_size=2, shuffle=True)"
   ]
  },
  {
   "cell_type": "markdown",
   "id": "b47e9082-92f9-449b-8207-c7180be90905",
   "metadata": {},
   "source": [
    "## 构建TextCNN模型"
   ]
  },
  {
   "cell_type": "code",
   "execution_count": 77,
   "id": "385a35fd-9582-4cfd-b8ec-57942d062464",
   "metadata": {},
   "outputs": [],
   "source": [
    "# 定义TextCNN模型\n",
    "class TextCNN(nn.Module):\n",
    "    def __init__(self, embedding_matrix, num_filters, filter_sizes, num_classes):\n",
    "        super(TextCNN, self).__init__()\n",
    "\n",
    "        self.embedding = nn.Embedding.from_pretrained(torch.FloatTensor(embedding_matrix), freeze=True)\n",
    "        self.convs = nn.ModuleList([\n",
    "            nn.Conv2d(1, num_filters, (fs, embedding_matrix.shape[1])) for fs in filter_sizes\n",
    "        ])\n",
    "        self.dropout = nn.Dropout(0.5)\n",
    "        self.fc = nn.Linear(len(filter_sizes) * num_filters, num_classes)\n",
    "\n",
    "    def forward(self, x):\n",
    "        x = self.embedding(x)\n",
    "        x = x.unsqueeze(1)\n",
    "        x = [nn.functional.relu(conv(x)).squeeze(3) for conv in self.convs]\n",
    "        x = [nn.functional.max_pool1d(conv, conv.size(2)).squeeze(2) for conv in x]\n",
    "        x = torch.cat(x, 1)\n",
    "        x = self.dropout(x)\n",
    "        x = self.fc(x)\n",
    "        return x"
   ]
  },
  {
   "cell_type": "markdown",
   "id": "a2614336-9175-4197-8f1a-54b800978071",
   "metadata": {},
   "source": [
    "## 将Word2Vec词向量应用到模型中"
   ]
  },
  {
   "cell_type": "code",
   "execution_count": 79,
   "id": "ab7144ef-8943-40cd-b1f1-29dcc0da792a",
   "metadata": {},
   "outputs": [
    {
     "name": "stdout",
     "output_type": "stream",
     "text": [
      "Epoch [1/20], Loss: 0.0\n",
      "Epoch [2/20], Loss: 2.807300006679725e-05\n",
      "Epoch [3/20], Loss: 1.4900939277140424e-05\n",
      "Epoch [4/20], Loss: 0.0\n",
      "Epoch [5/20], Loss: 0.0\n",
      "Epoch [6/20], Loss: 0.0\n",
      "Epoch [7/20], Loss: 0.0\n",
      "Epoch [8/20], Loss: 0.0\n",
      "Epoch [9/20], Loss: 0.0\n",
      "Epoch [10/20], Loss: 0.0\n",
      "Epoch [11/20], Loss: 0.0\n",
      "Epoch [12/20], Loss: 0.0\n",
      "Epoch [13/20], Loss: 0.0\n",
      "Epoch [14/20], Loss: 0.0\n",
      "Epoch [15/20], Loss: 0.0\n",
      "Epoch [16/20], Loss: 0.0\n",
      "Epoch [17/20], Loss: 0.0\n",
      "Epoch [18/20], Loss: 0.0\n",
      "Epoch [19/20], Loss: 0.0\n",
      "Epoch [20/20], Loss: 0.0\n"
     ]
    }
   ],
   "source": [
    "# 初始化模型\n",
    "vocab_size = len(word_vectors) + 1\n",
    "embedding_dim = 100\n",
    "num_filters = 128\n",
    "filter_sizes = [2, 3, 4]\n",
    "num_classes = 1\n",
    "text_cnn_model = TextCNN(embedding_matrix, num_filters, filter_sizes, num_classes)\n",
    "\n",
    "# 定义损失函数和优化器\n",
    "criterion = nn.BCEWithLogitsLoss()\n",
    "optimizer = optim.Adam(text_cnn_model.parameters(), lr=0.001)\n",
    "\n",
    "# 模型训练\n",
    "num_epochs = 20\n",
    "device = torch.device(\"cuda\" if torch.cuda.is_available() else \"cpu\")\n",
    "text_cnn_model.to(device)\n",
    "\n",
    "for epoch in range(num_epochs):\n",
    "    for inputs, labels in dataloader:\n",
    "        inputs = inputs.to(device)\n",
    "        labels = labels.to(device)\n",
    "\n",
    "        optimizer.zero_grad()\n",
    "        outputs = text_cnn_model(inputs)\n",
    "        loss = criterion(outputs.squeeze(), labels)\n",
    "        loss.backward()\n",
    "        optimizer.step()\n",
    "\n",
    "    print(f\"Epoch [{epoch+1}/{num_epochs}], Loss: {loss.item()}\")"
   ]
  },
  {
   "cell_type": "code",
   "execution_count": 83,
   "id": "b45800f6-6025-493c-9345-ce70a4b998d1",
   "metadata": {},
   "outputs": [],
   "source": [
    "# 模型预测\n",
    "test_sentences=list(test_data['content'])\n",
    "indexed_test_sentences = []\n",
    "for text in test_sentences:\n",
    "    indexed_test_sentence = [train_data_wv.key_to_index[word] + 1 for word in text if word in train_data_wv]\n",
    "    indexed_test_sentence += [0] * (max_seq_length - len(indexed_test_sentence))\n",
    "    indexed_test_sentences.append(indexed_test_sentence)\n",
    "\n",
    "x_test = torch.tensor(indexed_test_sentences, dtype=torch.long).to(device)\n",
    "predictions = torch.sigmoid(text_cnn_model(x_test)).squeeze().tolist()"
   ]
  },
  {
   "cell_type": "code",
   "execution_count": 88,
   "id": "d7c244a3-6d4c-4b24-af4b-0da32f39ddb4",
   "metadata": {},
   "outputs": [],
   "source": [
    "test_data['label'] = [1 if pred > 0.5 else 0 for pred in predictions]\n",
    "test_data[['name', 'label']].to_csv('data/textcnn.csv', index=None)"
   ]
  },
  {
   "cell_type": "markdown",
   "id": "349f95fe-8371-4f6d-a2a3-4ee3cf58d608",
   "metadata": {},
   "source": [
    "<img src=\"img/textcnn.png\">>"
   ]
  },
  {
   "cell_type": "markdown",
   "id": "9d1a45f1",
   "metadata": {},
   "source": [
    "# 任务八：使用Word2Vec词向量，搭建BILSTM模型进行训练和预测"
   ]
  },
  {
   "cell_type": "markdown",
   "id": "0016744f-101e-48aa-98d4-99917feb5043",
   "metadata": {},
   "source": [
    "## BILSTM模型介绍\n",
    "BILSTM（Bidirectional Long Short-Term Memory）是一种用于序列建模的深度学习模型，它结合了双向递归神经网络（RNN）和长短期记忆（LSTM）的思想，利用LSTM单元处理输入序列的时序信息，并且通过引入双向上下文来更好地理解和建模序列。\n",
    "\n",
    "BILSTM模型的基本结构由两个LSTM组成，一个按原始顺序处理输入序列，另一个按相反顺序处理输入序列。这种设计允许模型同时从过去和未来的上下文中学习特征。两个方向的LSTM计算结果会被连接起来，形成最终的表示。这样，BILSTM模型可以更好地捕捉到序列中的长期依赖关系和上下文信息。\n",
    "\n",
    "BILSTM模型的输入是一个序列，例如一个句子或一个时间序列，每个元素都表示序列中的一个时间步。每个时间步的输入都被嵌入到一个向量空间中，以便于模型处理。在经过输入层后，BILSTM模型的主要组成部分是两个LSTM层，分别处理正向和反向的上下文。每个LSTM层包含多个LSTM单元，这些单元通过一个门控机制来控制信息的流动和记忆的更新。\n",
    "\n",
    "BILSTM模型的输出可以是各种形式，根据任务的不同而定。例如，在序列标注任务中，输出可以是每个时间步的标签；在文本分类任务中，输出可以是整个序列的分类结果。\n",
    "\n",
    "BILSTM模型在许多NLP任务中表现出色，它能够学习到上下文相关的特征，有效地处理长距离依赖关系，对于处理序列数据具有很强的表达能力。然而，BILSTM模型也存在一些限制，例如它对序列长度的处理有限制，较长的序列可能导致内存消耗过大或模型性能下降。此外，BILSTM模型对于捕捉更大范围的上下文信息有一定的限制，因为它仅考虑了局部的前后上下文。"
   ]
  },
  {
   "cell_type": "code",
   "execution_count": 89,
   "id": "4d0f270c-8678-43c7-bd00-63742ea5d84d",
   "metadata": {},
   "outputs": [],
   "source": [
    "# 定义BILSTM模型\n",
    "class BILSTM(nn.Module):\n",
    "    def __init__(self, embedding_matrix, hidden_dim, num_layers, num_classes):\n",
    "        super(BILSTM, self).__init__()\n",
    "\n",
    "        self.embedding = nn.Embedding.from_pretrained(torch.FloatTensor(embedding_matrix), freeze=True)\n",
    "        self.bilstm = nn.LSTM(embedding_matrix.shape[1], hidden_dim, num_layers, batch_first=True, bidirectional=True)\n",
    "        self.fc = nn.Linear(hidden_dim * 2, num_classes)\n",
    "\n",
    "    def forward(self, x):\n",
    "        x = self.embedding(x)\n",
    "        _, (h_n, _) = self.bilstm(x)\n",
    "        h_n = torch.cat((h_n[-2, :, :], h_n[-1, :, :]), dim=1)\n",
    "        x = self.fc(h_n)\n",
    "        return x"
   ]
  },
  {
   "cell_type": "code",
   "execution_count": 90,
   "id": "badeb0dd-ae78-4e94-bb1d-3172f0f11631",
   "metadata": {},
   "outputs": [],
   "source": [
    "# 初始化模型\n",
    "hidden_dim = 128\n",
    "num_layers = 1\n",
    "num_classes = 1\n",
    "bilstm_model = BILSTM(embedding_matrix, hidden_dim, num_layers, num_classes)\n",
    "\n",
    "# 定义损失函数和优化器\n",
    "criterion = nn.BCEWithLogitsLoss()\n",
    "optimizer = optim.Adam(bilstm_model.parameters(), lr=0.001)"
   ]
  },
  {
   "cell_type": "code",
   "execution_count": 91,
   "id": "1e4a5636-465c-4011-967f-2cbb21a0f498",
   "metadata": {},
   "outputs": [
    {
     "name": "stdout",
     "output_type": "stream",
     "text": [
      "Epoch [1/20], Loss: 0.009044078178703785\n",
      "Epoch [2/20], Loss: 0.0004037315375171602\n",
      "Epoch [3/20], Loss: 0.002809701254591346\n",
      "Epoch [4/20], Loss: 0.0032373229041695595\n",
      "Epoch [5/20], Loss: 0.0002015027275774628\n",
      "Epoch [6/20], Loss: 1.1920927533992653e-07\n",
      "Epoch [7/20], Loss: 5.793270975118503e-05\n",
      "Epoch [8/20], Loss: 4.768370445162873e-07\n",
      "Epoch [9/20], Loss: 2.682201738934964e-06\n",
      "Epoch [10/20], Loss: 8.344643447344424e-07\n",
      "Epoch [11/20], Loss: 1.7225447663804516e-05\n",
      "Epoch [12/20], Loss: 7.563468534499407e-05\n",
      "Epoch [13/20], Loss: 3.483414888381958\n",
      "Epoch [14/20], Loss: 0.0\n",
      "Epoch [15/20], Loss: 0.0\n",
      "Epoch [16/20], Loss: 0.00011991029168711975\n",
      "Epoch [17/20], Loss: 3.5762775496550603e-07\n",
      "Epoch [18/20], Loss: 5.9604641222676946e-08\n",
      "Epoch [19/20], Loss: 0.0\n",
      "Epoch [20/20], Loss: 0.0\n"
     ]
    }
   ],
   "source": [
    "# 模型训练\n",
    "num_epochs = 20\n",
    "device = torch.device(\"cuda\" if torch.cuda.is_available() else \"cpu\")\n",
    "bilstm_model.to(device)\n",
    "\n",
    "for epoch in range(num_epochs):\n",
    "    for inputs, labels in dataloader:\n",
    "        inputs = inputs.to(device)\n",
    "        labels = labels.to(device)\n",
    "\n",
    "        optimizer.zero_grad()\n",
    "        outputs = bilstm_model(inputs)\n",
    "        loss = criterion(outputs.squeeze(), labels)\n",
    "        loss.backward()\n",
    "        optimizer.step()\n",
    "\n",
    "    print(f\"Epoch [{epoch+1}/{num_epochs}], Loss: {loss.item()}\")"
   ]
  },
  {
   "cell_type": "code",
   "execution_count": 92,
   "id": "584320a8-cec2-4714-933c-ccb24c88a4ac",
   "metadata": {},
   "outputs": [],
   "source": [
    "# 模型预测\n",
    "predictions = torch.sigmoid(bilstm_model(x_test)).squeeze().tolist()\n",
    "test_data['label'] = [1 if pred > 0.5 else 0 for pred in predictions]\n",
    "test_data[['name', 'label']].to_csv('data/bilstm.csv', index=None)"
   ]
  },
  {
   "cell_type": "markdown",
   "id": "d2d852ef-d75a-4e55-99ff-9c09c5c43327",
   "metadata": {},
   "source": [
    "<img src=\"img/bilstm.png\">"
   ]
  },
  {
   "cell_type": "markdown",
   "id": "b201795d",
   "metadata": {},
   "source": [
    "# 任务九：学会Bert基础，transformer库基础使用"
   ]
  },
  {
   "cell_type": "markdown",
   "id": "6e2325c0-e11b-41f7-99e2-451ed1e7de5f",
   "metadata": {},
   "source": [
    "Transformer "
   ]
  },
  {
   "cell_type": "markdown",
   "id": "809bac24-f3de-4a59-a4ca-579cdadcc4bb",
   "metadata": {},
   "source": [
    "## Bert模型介绍\n",
    "BERT（Bidirectional Encoder Representations from Transformers）是由Google于2018年提出的一种预训练模型，它是基于Transformer模型的一种改进和扩展。BERT是一种双向（bidirectional）的自然语言处理模型，通过在大规模无标签文本上进行预训练，学习到了丰富的语言表示。\n",
    "\n",
    "传统的自然语言处理模型通常采用单向的语言模型，即从左到右或从右到左进行建模，而BERT则采用了双向的机制。这使得BERT能够更好地理解上下文和语境，并在各种自然语言处理任务中表现出色。\n",
    "\n",
    "BERT的训练过程包括两个阶段：预训练和微调。在预训练阶段，BERT使用大量无标签的文本数据进行训练，通过预测输入文本中的遮蔽词（masked words）和句子关系任务来学习词汇和句子级别的表示。在微调阶段，BERT通过在特定任务上进行少量的有标签数据的训练来适应具体的任务，如文本分类、命名实体识别、句子关系判断等。"
   ]
  },
  {
   "cell_type": "code",
   "execution_count": null,
   "id": "6d20639b-fc7f-4711-9413-04d7b09430cf",
   "metadata": {},
   "outputs": [],
   "source": [
    "from transformers import BertTokenizer, BertModel, AutoModel\n",
    "\n"
   ]
  },
  {
   "cell_type": "markdown",
   "id": "cb979bb1",
   "metadata": {},
   "source": [
    "# 任务十：使用Bert在比赛数据集中完成预训练"
   ]
  },
  {
   "cell_type": "markdown",
   "id": "9bc9a919",
   "metadata": {},
   "source": [
    "# 任务十一：使用Bert在比赛数据集上完成微调"
   ]
  },
  {
   "cell_type": "code",
   "execution_count": null,
   "id": "b0bc6bdb",
   "metadata": {},
   "outputs": [],
   "source": []
  }
 ],
 "metadata": {
  "kernelspec": {
   "display_name": "Python 3 (ipykernel)",
   "language": "python",
   "name": "python3"
  },
  "language_info": {
   "codemirror_mode": {
    "name": "ipython",
    "version": 3
   },
   "file_extension": ".py",
   "mimetype": "text/x-python",
   "name": "python",
   "nbconvert_exporter": "python",
   "pygments_lexer": "ipython3",
   "version": "3.10.9"
  }
 },
 "nbformat": 4,
 "nbformat_minor": 5
}
